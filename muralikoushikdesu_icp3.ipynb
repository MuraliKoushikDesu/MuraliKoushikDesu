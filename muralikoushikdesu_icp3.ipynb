{
  "nbformat": 4,
  "nbformat_minor": 0,
  "metadata": {
    "colab": {
      "provenance": [],
      "authorship_tag": "ABX9TyPbg4POt8TBbrl6zkIucU44",
      "include_colab_link": true
    },
    "kernelspec": {
      "name": "python3",
      "display_name": "Python 3"
    },
    "language_info": {
      "name": "python"
    }
  },
  "cells": [
    {
      "cell_type": "markdown",
      "metadata": {
        "id": "view-in-github",
        "colab_type": "text"
      },
      "source": [
        "<a href=\"https://colab.research.google.com/github/MuraliKoushikDesu/MuraliKoushikDesu/blob/main/muralikoushikdesu_icp3.ipynb\" target=\"_parent\"><img src=\"https://colab.research.google.com/assets/colab-badge.svg\" alt=\"Open In Colab\"/></a>"
      ]
    },
    {
      "cell_type": "code",
      "execution_count": null,
      "metadata": {
        "colab": {
          "base_uri": "https://localhost:8080/"
        },
        "id": "DPpB7f8pIQMR",
        "outputId": "2dbc5469-b6d3-4ba7-a392-cc871f3dd4bd"
      },
      "outputs": [
        {
          "output_type": "stream",
          "name": "stdout",
          "text": [
            "Array shape: (3, 5)\n",
            "Modified array:\n",
            "[[ 5  3  0 14  1]\n",
            " [ 0  8 10 14  1]\n",
            " [11 16  7 11  0]]\n"
          ]
        }
      ],
      "source": [
        "import numpy as np\n",
        "\n",
        "# Create a random vector of size 15 with integers in the range 1-20\n",
        "vector = np.random.randint(1, 21, size=15)\n",
        "\n",
        "# Reshape the array to 3 by 5\n",
        "reshaped_array = vector.reshape(3, 5)\n",
        "\n",
        "# Print the shape of the array\n",
        "print(\"Array shape:\", reshaped_array.shape)\n",
        "\n",
        "# Replace the maximum value in each row with 0\n",
        "reshaped_array[np.arange(reshaped_array.shape[0]), np.argmax(reshaped_array, axis=1)] = 0\n",
        "\n",
        "# Print the modified array\n",
        "print(\"Modified array:\")\n",
        "print(reshaped_array)\n"
      ]
    },
    {
      "cell_type": "code",
      "source": [
        "import numpy as np\n",
        "\n",
        "# Create a 2-dimensional array of size 4 x 3 with 4-byte integer elements\n",
        "array = np.empty((4, 3), dtype=np.int32)\n",
        "\n",
        "# Print the shape of the array\n",
        "print(\"Array shape:\", array.shape)\n",
        "\n",
        "# Print the type of the array\n",
        "print(\"Array type:\", type(array))\n",
        "\n",
        "# Print the data type of the array\n",
        "print(\"Array data type:\", array.dtype)\n"
      ],
      "metadata": {
        "colab": {
          "base_uri": "https://localhost:8080/"
        },
        "id": "eT1a6ho-Immg",
        "outputId": "1cdad9b5-076a-452a-ff52-9f6d1acb682e"
      },
      "execution_count": null,
      "outputs": [
        {
          "output_type": "stream",
          "name": "stdout",
          "text": [
            "Array shape: (4, 3)\n",
            "Array type: <class 'numpy.ndarray'>\n",
            "Array data type: int32\n"
          ]
        }
      ]
    },
    {
      "cell_type": "code",
      "source": [
        "import numpy as np\n",
        "\n",
        "# Create the given array\n",
        "array = np.array([[0, 1, 2], [3, 4, 5]])\n",
        "\n",
        "# Compute the sum of the diagonal elements\n",
        "diagonal_sum = np.trace(array)\n",
        "\n",
        "# Print the sum of the diagonal elements\n",
        "print(\"Sum of diagonal elements:\", diagonal_sum)\n"
      ],
      "metadata": {
        "colab": {
          "base_uri": "https://localhost:8080/"
        },
        "id": "DScl3zsRJJy9",
        "outputId": "d501ac6e-0884-4feb-f52b-5a9dcb83d30c"
      },
      "execution_count": null,
      "outputs": [
        {
          "output_type": "stream",
          "name": "stdout",
          "text": [
            "Sum of diagonal elements: 4\n"
          ]
        }
      ]
    },
    {
      "cell_type": "code",
      "source": [
        "import numpy as np\n",
        "\n",
        "# Create an array of odd numbers between 10 to 70\n",
        "odd_array = np.arange(11, 71, 2)\n",
        "\n",
        "# Create an array of even numbers between 10 to 70\n",
        "even_array = np.arange(10, 71, 2)\n",
        "\n",
        "# Print the arrays\n",
        "print(\"Odd numbers array:\", odd_array)\n",
        "print(\"Even numbers array:\", even_array)\n"
      ],
      "metadata": {
        "colab": {
          "base_uri": "https://localhost:8080/"
        },
        "id": "u4SKRc_sJWNR",
        "outputId": "ed8ed8e1-a708-4f0d-c6be-5d8445a0d264"
      },
      "execution_count": null,
      "outputs": [
        {
          "output_type": "stream",
          "name": "stdout",
          "text": [
            "Odd numbers array: [11 13 15 17 19 21 23 25 27 29 31 33 35 37 39 41 43 45 47 49 51 53 55 57\n",
            " 59 61 63 65 67 69]\n",
            "Even numbers array: [10 12 14 16 18 20 22 24 26 28 30 32 34 36 38 40 42 44 46 48 50 52 54 56\n",
            " 58 60 62 64 66 68 70]\n"
          ]
        }
      ]
    },
    {
      "cell_type": "code",
      "source": [
        "import numpy as np\n",
        "\n",
        "# Create two arrays of the same size\n",
        "array1 = np.array([1, 2, 3])\n",
        "array2 = np.array([4, 5, 6])\n",
        "\n",
        "# Perform element-wise addition\n",
        "addition = np.add(array1, array2)\n",
        "\n",
        "# Perform element-wise multiplication\n",
        "multiplication = np.multiply(array1, array2)\n",
        "\n",
        "# Perform element-wise power operation\n",
        "power = np.power(array1, array2)\n",
        "\n",
        "# Print the results\n",
        "print(\"Addition:\", addition)\n",
        "print(\"Multiplication:\", multiplication)\n",
        "print(\"Power:\", power)\n"
      ],
      "metadata": {
        "colab": {
          "base_uri": "https://localhost:8080/"
        },
        "id": "zFx_eShIJakY",
        "outputId": "8f3cbfdf-a1d5-4063-e908-62c3b465f45c"
      },
      "execution_count": null,
      "outputs": [
        {
          "output_type": "stream",
          "name": "stdout",
          "text": [
            "Addition: [5 7 9]\n",
            "Multiplication: [ 4 10 18]\n",
            "Power: [  1  32 729]\n"
          ]
        }
      ]
    },
    {
      "cell_type": "code",
      "source": [
        "import numpy as np\n",
        "\n",
        "# Create the given array\n",
        "array = np.array([[5.54, 3.38, 7.99],\n",
        "                  [3.54, 4.38, 6.99],\n",
        "                  [1.54, 2.39, 9.29]])\n",
        "\n",
        "# Sort the array by row in ascending order\n",
        "sorted_by_row = np.sort(array, axis=1)\n",
        "\n",
        "# Sort the array by column in ascending order\n",
        "sorted_by_column = np.sort(array, axis=0)\n",
        "\n",
        "# Print the sorted arrays\n",
        "print(\"Sorted by row:\")\n",
        "print(sorted_by_row)\n",
        "print(\"Sorted by column:\")\n",
        "print(sorted_by_column)\n"
      ],
      "metadata": {
        "colab": {
          "base_uri": "https://localhost:8080/"
        },
        "id": "723wznCVJgIX",
        "outputId": "29006a1b-7ac0-4e32-fd04-e83a4907c500"
      },
      "execution_count": null,
      "outputs": [
        {
          "output_type": "stream",
          "name": "stdout",
          "text": [
            "Sorted by row:\n",
            "[[3.38 5.54 7.99]\n",
            " [3.54 4.38 6.99]\n",
            " [1.54 2.39 9.29]]\n",
            "Sorted by column:\n",
            "[[1.54 2.39 6.99]\n",
            " [3.54 3.38 7.99]\n",
            " [5.54 4.38 9.29]]\n"
          ]
        }
      ]
    },
    {
      "cell_type": "code",
      "source": [
        "import numpy as np\n",
        "\n",
        "# Declare the given array\n",
        "array = np.array([[4, 2, np.nan, 1],\n",
        "                  [11, 12, 14, 9],\n",
        "                  [5, np.nan, 1, np.nan]])\n",
        "\n",
        "# Find missing data by returning a Boolean output\n",
        "missing_data = np.isnan(array)\n",
        "\n",
        "# Print the Boolean output\n",
        "print(missing_data)\n"
      ],
      "metadata": {
        "colab": {
          "base_uri": "https://localhost:8080/"
        },
        "id": "6T9cdDuMJpQZ",
        "outputId": "ff1dd522-feb3-4081-d6ef-4525947480e6"
      },
      "execution_count": null,
      "outputs": [
        {
          "output_type": "stream",
          "name": "stdout",
          "text": [
            "[[False False  True False]\n",
            " [False False False False]\n",
            " [False  True False  True]]\n"
          ]
        }
      ]
    }
  ]
}