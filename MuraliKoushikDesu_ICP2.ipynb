{
  "nbformat": 4,
  "nbformat_minor": 0,
  "metadata": {
    "colab": {
      "provenance": [],
      "authorship_tag": "ABX9TyObf/JGRddEu4GYlTUH+WF2",
      "include_colab_link": true
    },
    "kernelspec": {
      "name": "python3",
      "display_name": "Python 3"
    },
    "language_info": {
      "name": "python"
    }
  },
  "cells": [
    {
      "cell_type": "markdown",
      "metadata": {
        "id": "view-in-github",
        "colab_type": "text"
      },
      "source": [
        "<a href=\"https://colab.research.google.com/github/MuraliKoushikDesu/MuraliKoushikDesu/blob/main/MuraliKoushikDesu_ICP2.ipynb\" target=\"_parent\"><img src=\"https://colab.research.google.com/assets/colab-badge.svg\" alt=\"Open In Colab\"/></a>"
      ]
    },
    {
      "cell_type": "code",
      "execution_count": 1,
      "metadata": {
        "colab": {
          "base_uri": "https://localhost:8080/"
        },
        "id": "uJh6q1wuH0SA",
        "outputId": "82342f98-aa5b-4b21-b35c-e0d44db158c7"
      },
      "outputs": [
        {
          "output_type": "stream",
          "name": "stdout",
          "text": [
            "Sorted ages: [19, 19, 19, 20, 22, 24, 24, 24, 25, 25, 26, 26]\n",
            "Minimum age: 19\n",
            "Maximum age: 26\n",
            "Median age: 24.0\n",
            "Average age: 22.75\n",
            "Age range: 7\n"
          ]
        }
      ],
      "source": [
        "ages = [19, 22, 19, 24, 20, 25, 26, 24, 25, 24]\n",
        "\n",
        "# Sort the list and find the min and max age\n",
        "sorted_ages = sorted(ages)\n",
        "min_age = sorted_ages[0]\n",
        "max_age = sorted_ages[-1]\n",
        "\n",
        "# Add the min age and the max age again to the list\n",
        "ages.append(min_age)\n",
        "ages.append(max_age)\n",
        "\n",
        "# Find the median age\n",
        "sorted_ages = sorted(ages)\n",
        "length = len(sorted_ages)\n",
        "if length % 2 == 0:\n",
        "    median_age = (sorted_ages[length // 2 - 1] + sorted_ages[length // 2]) / 2\n",
        "else:\n",
        "    median_age = sorted_ages[length // 2]\n",
        "\n",
        "# Find the average age\n",
        "average_age = sum(ages) / len(ages)\n",
        "\n",
        "# Find the range of ages\n",
        "age_range = max_age - min_age\n",
        "\n",
        "# Print the results\n",
        "print(\"Sorted ages:\", sorted_ages)\n",
        "print(\"Minimum age:\", min_age)\n",
        "print(\"Maximum age:\", max_age)\n",
        "print(\"Median age:\", median_age)\n",
        "print(\"Average age:\", average_age)\n",
        "print(\"Age range:\", age_range)\n"
      ]
    },
    {
      "cell_type": "code",
      "source": [
        "# Create an empty dictionary called dog\n",
        "dog = {}\n",
        "\n",
        "# Add name, color, breed, legs, age to the dog dictionary\n",
        "dog['name'] = 'Buddy'\n",
        "dog['color'] = 'Brown'\n",
        "dog['breed'] = 'Labrador Retriever'\n",
        "dog['legs'] = 4\n",
        "dog['age'] = 5\n",
        "\n",
        "# Create a student dictionary and add various key-value pairs\n",
        "student = {\n",
        "    'first_name': 'Murali Koushik',\n",
        "    'last_name': 'Desu',\n",
        "    'gender': 'Male',\n",
        "    'age': 20,\n",
        "    'marital_status': 'Single',\n",
        "    'skills': ['Python', 'Java'],\n",
        "    'country': 'USA',\n",
        "    'city': 'Warrensburg',\n",
        "    'address': '405 Jackson st'\n",
        "}\n",
        "\n",
        "# Get the length of the student dictionary\n",
        "student_length = len(student)\n",
        "\n",
        "# Get the value of skills and check the data type\n",
        "skills = student['skills']\n",
        "skills_data_type = type(skills)\n",
        "\n",
        "# Modify the skills values by adding one or two skills\n",
        "skills.append('C++')\n",
        "skills.append('JavaScript')\n",
        "\n",
        "# Get the dictionary keys as a list\n",
        "keys_list = list(student.keys())\n",
        "\n",
        "# Get the dictionary values as a list\n",
        "values_list = list(student.values())\n",
        "\n",
        "# Print the results\n",
        "print(\"Dog dictionary:\", dog)\n",
        "print(\"Student dictionary:\", student)\n",
        "print(\"Length of student dictionary:\", student_length)\n",
        "print(\"Skills data type:\", skills_data_type)\n",
        "print(\"Modified skills:\", skills)\n",
        "print(\"Dictionary keys:\", keys_list)\n",
        "print(\"Dictionary values:\", values_list)\n"
      ],
      "metadata": {
        "colab": {
          "base_uri": "https://localhost:8080/"
        },
        "id": "7pm9m0nzJGRc",
        "outputId": "fdd73030-00e5-4010-84c3-ce12c1ba7a41"
      },
      "execution_count": 2,
      "outputs": [
        {
          "output_type": "stream",
          "name": "stdout",
          "text": [
            "Dog dictionary: {'name': 'Buddy', 'color': 'Brown', 'breed': 'Labrador Retriever', 'legs': 4, 'age': 5}\n",
            "Student dictionary: {'first_name': 'Murali Koushik', 'last_name': 'Desu', 'gender': 'Male', 'age': 20, 'marital_status': 'Single', 'skills': ['Python', 'Java', 'C++', 'JavaScript'], 'country': 'USA', 'city': 'Warrensburg', 'address': '405 Jackson st'}\n",
            "Length of student dictionary: 9\n",
            "Skills data type: <class 'list'>\n",
            "Modified skills: ['Python', 'Java', 'C++', 'JavaScript']\n",
            "Dictionary keys: ['first_name', 'last_name', 'gender', 'age', 'marital_status', 'skills', 'country', 'city', 'address']\n",
            "Dictionary values: ['Murali Koushik', 'Desu', 'Male', 20, 'Single', ['Python', 'Java', 'C++', 'JavaScript'], 'USA', 'Warrensburg', '405 Jackson st']\n"
          ]
        }
      ]
    },
    {
      "cell_type": "code",
      "source": [
        "it_companies = {'Facebook', 'Google', 'Microsoft', 'Apple', 'IBM', 'Oracle', 'Amazon'}\n",
        "\n",
        "A = {19, 22, 24, 20, 25, 26}\n",
        "B = {19, 22, 20, 25, 26, 24, 28, 27}\n",
        "age = [22, 19, 24, 25, 26, 24, 25, 24]\n",
        "\n",
        "# Length of it_companies\n",
        "print(\"Length of it_companies set:\",len(it_companies))\n",
        "print(\"it_companies set:\",it_companies)\n",
        "\n",
        "# Add Twitter\n",
        "it_companies.add('Twitter')\n",
        "print(\"it_companies set after adding Twitter:\",it_companies)\n",
        "\n",
        "# Insert multiple companies\n",
        "it_companies.update(['Netflix', 'Intel', 'Salesforce'])\n",
        "print(\"it_companies set after adding multiple companies:\",it_companies)\n",
        "\n",
        "# Remove a company\n",
        "it_companies.remove('Oracle')\n",
        "print(\"it_companies set after removing a company\",it_companies)\n",
        "\n",
        "# Difference between remove and discard\n",
        "# remove will raise an error if element does not exist, discard will not\n",
        "\n",
        "# Join A and B\n",
        "print(\"Join A and B:\",A | B)\n",
        "\n",
        "# Intersection of A and B\n",
        "print(\"Intersection of A and B:\",A & B)\n",
        "\n",
        "# Is A subset of B?\n",
        "print(\"Is A subset of B?:\",A <= B)\n",
        "\n",
        "# Are A and B disjoint sets?\n",
        "print(\"Are A and B disjoint sets?:\",A.isdisjoint(B))\n",
        "\n",
        "# Join A with B and B with A\n",
        "print(\"Join A with B:\",A | B)\n",
        "print(\"Join B with A:\",B | A)\n",
        "\n",
        "# Symmetric difference between A and B\n",
        "print(\"Symmetric difference between A and B:\",A ^ B)\n",
        "\n",
        "# Delete sets\n",
        "del A\n",
        "del B\n",
        "\n",
        "# Compare length of list and set\n",
        "age_set = set(age)\n",
        "print(\"Length of age list:\",len(age),\"\\nLength of age set:\", len(age_set))"
      ],
      "metadata": {
        "colab": {
          "base_uri": "https://localhost:8080/"
        },
        "id": "Q55Vf6kgNU-E",
        "outputId": "40f6948e-b4c6-4a2a-bb72-b04e9fe119f6"
      },
      "execution_count": 22,
      "outputs": [
        {
          "output_type": "stream",
          "name": "stdout",
          "text": [
            "Length of it_companies set: 7\n",
            "it_companies set: {'Google', 'Amazon', 'Oracle', 'Apple', 'IBM', 'Microsoft', 'Facebook'}\n",
            "it_companies set after adding Twitter: {'Google', 'Amazon', 'Twitter', 'Oracle', 'Apple', 'IBM', 'Microsoft', 'Facebook'}\n",
            "it_companies set after adding multiple companies: {'Oracle', 'Google', 'Amazon', 'Twitter', 'Salesforce', 'IBM', 'Intel', 'Facebook', 'Microsoft', 'Apple', 'Netflix'}\n",
            "it_companies set after removing a company {'Google', 'Amazon', 'Twitter', 'Salesforce', 'IBM', 'Intel', 'Facebook', 'Microsoft', 'Apple', 'Netflix'}\n",
            "Join A and B: {19, 20, 22, 24, 25, 26, 27, 28}\n",
            "Intersection of A and B: {19, 20, 22, 24, 25, 26}\n",
            "s A subset of B?: True\n",
            "Are A and B disjoint sets?: False\n",
            "Join A with B: {19, 20, 22, 24, 25, 26, 27, 28}\n",
            "Join B with A: {19, 20, 22, 24, 25, 26, 27, 28}\n",
            "Symmetric difference between A and B: {27, 28}\n",
            "Length of age list: 8 \n",
            "Length of age set: 5\n"
          ]
        }
      ]
    },
    {
      "cell_type": "code",
      "source": [
        "class Employee:\n",
        "    count = 0\n",
        "\n",
        "    def __init__(self, name, family, salary, department):\n",
        "        self.name = name\n",
        "        self.family = family\n",
        "        self.salary = salary\n",
        "        self.department = department\n",
        "        Employee.count += 1\n",
        "\n",
        "    def average_salary(self, employees):\n",
        "        total_salary = sum(emp.salary for emp in employees)\n",
        "        return total_salary / len(employees)\n",
        "\n",
        "\n",
        "class FulltimeEmployee(Employee):\n",
        "    pass\n",
        "\n",
        "\n",
        "# Creating instances of Employee and FulltimeEmployee classes\n",
        "employee1 = Employee(\"John Doe\", \"Doe Family\", 5000, \"IT\")\n",
        "employee2 = Employee(\"Jane Smith\", \"Smith Family\", 6000, \"HR\")\n",
        "fulltime_employee = FulltimeEmployee(\"Mike Johnson\", \"Johnson Family\", 7000, \"Finance\")\n",
        "\n",
        "# Calling member functions\n",
        "employees = [employee1, employee2, fulltime_employee]\n",
        "avg_salary = employee1.average_salary(employees)\n",
        "\n",
        "print(\"Number of employees:\", Employee.count)\n",
        "print(\"Average salary:\", avg_salary)\n"
      ],
      "metadata": {
        "colab": {
          "base_uri": "https://localhost:8080/"
        },
        "id": "5B7IIlZyN0xQ",
        "outputId": "39b7c4e0-548f-4a12-9c87-17546027ca21"
      },
      "execution_count": 13,
      "outputs": [
        {
          "output_type": "stream",
          "name": "stdout",
          "text": [
            "Number of employees: 3\n",
            "Average salary: 6000.0\n"
          ]
        }
      ]
    }
  ]
}